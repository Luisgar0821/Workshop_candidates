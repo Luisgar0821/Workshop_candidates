{
 "cells": [
  {
   "cell_type": "markdown",
   "metadata": {},
   "source": [
    "## Netflix DATASET Analysing"
   ]
  },
  {
   "cell_type": "markdown",
   "metadata": {},
   "source": [
    "---"
   ]
  },
  {
   "cell_type": "markdown",
   "metadata": {},
   "source": [
    "Luis Angel Garcia (2230177)"
   ]
  },
  {
   "cell_type": "markdown",
   "metadata": {},
   "source": [
    "## Libraries"
   ]
  },
  {
   "cell_type": "code",
   "execution_count": 54,
   "metadata": {},
   "outputs": [],
   "source": [
    "import configparser\n",
    "import pandas as pd\n",
    "import mysql.connector"
   ]
  },
  {
   "cell_type": "markdown",
   "metadata": {},
   "source": [
    "## MySql Config And Connection"
   ]
  },
  {
   "cell_type": "code",
   "execution_count": 55,
   "metadata": {},
   "outputs": [],
   "source": [
    "config = configparser.ConfigParser()\n",
    "config.read(\"config.txt\")\n",
    "db_config = {\n",
    "    \"host\": config.get(\"DEFAULT\", \"host\"),\n",
    "    \"port\": config.getint(\"DEFAULT\", \"port\"),\n",
    "    \"user\": config.get(\"DEFAULT\", \"user\"),\n",
    "    \"password\": config.get(\"DEFAULT\", \"password\")\n",
    "}\n",
    "\n",
    "conn = mysql.connector.connect(**db_config)\n",
    "cursor= conn.cursor()"
   ]
  },
  {
   "cell_type": "markdown",
   "metadata": {},
   "source": [
    "## Creacion de DATABASE y Conexion"
   ]
  },
  {
   "cell_type": "code",
   "execution_count": 56,
   "metadata": {},
   "outputs": [
    {
     "name": "stdout",
     "output_type": "stream",
     "text": [
      "Base de datos 'candidates_database' lista para usarse.\n"
     ]
    }
   ],
   "source": [
    "database_name = config.get(\"DEFAULT\", \"database\")\n",
    "cursor.execute(f\"CREATE DATABASE IF NOT EXISTS {database_name}\")\n",
    "conn.commit()\n",
    "\n",
    "conn.database = database_name\n",
    "print(f\"Base de datos '{database_name}' lista para usarse.\")"
   ]
  },
  {
   "cell_type": "markdown",
   "metadata": {},
   "source": [
    "## Creacion de tabla de datos sucios"
   ]
  },
  {
   "cell_type": "code",
   "execution_count": 57,
   "metadata": {},
   "outputs": [
    {
     "name": "stdout",
     "output_type": "stream",
     "text": [
      "La base de datos y tabla se ha creado con exito\n"
     ]
    }
   ],
   "source": [
    "cursor.execute(\"\"\" \n",
    "CREATE TABLE IF NOT EXISTS candidates_original (\n",
    "    id INT AUTO_INCREMENT PRIMARY KEY,\n",
    "    First_name VARCHAR(20),\n",
    "    last_name VARCHAR(20),\n",
    "    email VARCHAR(255) ,\n",
    "    application_date DATE,\n",
    "    country VARCHAR(100),\n",
    "    yoe INT,\n",
    "    seniority VARCHAR(50),\n",
    "    technology VARCHAR(50),\n",
    "    code_challenge_score INT,\n",
    "    technical_interview_score INT\n",
    ");\n",
    "\"\"\")\n",
    "conn.commit()\n",
    "print (\"La base de datos y tabla se ha creado con exito\")"
   ]
  },
  {
   "cell_type": "markdown",
   "metadata": {},
   "source": [
    "## Carga de datos"
   ]
  },
  {
   "cell_type": "code",
   "execution_count": 58,
   "metadata": {},
   "outputs": [
    {
     "name": "stdout",
     "output_type": "stream",
     "text": [
      "No es necesario volver a cargar los datos\n"
     ]
    }
   ],
   "source": [
    "csv_file= './DATASET/candidates.csv'\n",
    "df = pd.read_csv(csv_file, sep=\";\")\n",
    "df.columns = [\"first_name\", \"last_name\", \"email\", \"application_date\", \"country\", \"yoe\", \"seniority\", \"technology\", \"code_challenge_score\", \"technical_interview_score\"]\n",
    "\n",
    "df = df.fillna(\"TEMP_NULL\") \n",
    "\n",
    "cursor.execute(\"SELECT COUNT(*) FROM candidates_original\")\n",
    "resultado = cursor.fetchone()\n",
    "if resultado[0] == 0:\n",
    "    for _, row in df.iterrows():\n",
    "        cursor.execute(\"\"\"\n",
    "                   INSERT INTO candidates_original (first_name,last_name,email,application_date,country,yoe,seniority,technology,code_challenge_score,technical_interview_score)\n",
    "                   VALUES (%s,%s,%s,%s,%s,%s,%s,%s,%s,%s)\n",
    "                \"\"\", (row['first_name'],row['last_name'],row['email'],row['application_date'],row['country'],row['yoe'],row['seniority'],row['technology'],row['code_challenge_score'],row['technical_interview_score']))\n",
    "    conn.commit()\n",
    "    print(\"Dato cargados correcctamente\")\n",
    "else:\n",
    "    conn.commit()\n",
    "    print(\"No es necesario volver a cargar los datos\")"
   ]
  },
  {
   "cell_type": "markdown",
   "metadata": {},
   "source": [
    "## use dataset from mysql"
   ]
  },
  {
   "cell_type": "code",
   "execution_count": 59,
   "metadata": {},
   "outputs": [],
   "source": [
    "cursor.execute(\"SELECT * FROM candidates_original\")\n",
    "\n",
    "columns = [col[0] for col in cursor.description]\n",
    "datas= cursor.fetchall()\n",
    "df = pd.DataFrame(datas, columns=columns)"
   ]
  },
  {
   "cell_type": "markdown",
   "metadata": {},
   "source": [
    "## Limpieza de datos duplicados y nulos"
   ]
  },
  {
   "cell_type": "code",
   "execution_count": 60,
   "metadata": {},
   "outputs": [],
   "source": [
    "df_cleaned = df.dropna()\n",
    "df_cleaned = df_cleaned.drop_duplicates()"
   ]
  },
  {
   "cell_type": "markdown",
   "metadata": {},
   "source": [
    "## Conversion de application date como formato fecha"
   ]
  },
  {
   "cell_type": "code",
   "execution_count": 61,
   "metadata": {},
   "outputs": [],
   "source": [
    "df_cleaned['application_date'] = pd.to_datetime(df['application_date'], errors='coerce')"
   ]
  },
  {
   "cell_type": "markdown",
   "metadata": {},
   "source": [
    "## Eliminacion de filas de fecha invalidad"
   ]
  },
  {
   "cell_type": "code",
   "execution_count": 62,
   "metadata": {},
   "outputs": [],
   "source": [
    "df_cleaned = df_cleaned.dropna(subset=['application_date'])"
   ]
  },
  {
   "cell_type": "markdown",
   "metadata": {},
   "source": [
    "## Creacion de columna"
   ]
  },
  {
   "cell_type": "code",
   "execution_count": 63,
   "metadata": {},
   "outputs": [
    {
     "name": "stdout",
     "output_type": "stream",
     "text": [
      "Index(['id', 'First_name', 'last_name', 'email', 'application_date', 'country',\n",
      "       'yoe', 'seniority', 'technology', 'code_challenge_score',\n",
      "       'technical_interview_score', 'hired'],\n",
      "      dtype='object')\n"
     ]
    }
   ],
   "source": [
    "df_cleaned['hired'] = ((df_cleaned['code_challenge_score'] >= 7) & (df['technical_interview_score'] >= 7)).astype(int)\n",
    "print(df_cleaned.columns)"
   ]
  },
  {
   "cell_type": "markdown",
   "metadata": {},
   "source": [
    "## Registro de contratados"
   ]
  },
  {
   "cell_type": "code",
   "execution_count": 64,
   "metadata": {},
   "outputs": [],
   "source": [
    "df_hired = df_cleaned[df_cleaned['hired'] == 1]"
   ]
  },
  {
   "cell_type": "markdown",
   "metadata": {},
   "source": [
    "## creacion de tabla de datos limpia"
   ]
  },
  {
   "cell_type": "code",
   "execution_count": 66,
   "metadata": {},
   "outputs": [
    {
     "name": "stdout",
     "output_type": "stream",
     "text": [
      "La tabla se ha creado con exito\n"
     ]
    }
   ],
   "source": [
    "cursor.execute(\"\"\" \n",
    "CREATE TABLE IF NOT EXISTS candidates_cleaned (\n",
    "    id INT AUTO_INCREMENT PRIMARY KEY,\n",
    "    first_name VARCHAR(20),\n",
    "    last_name VARCHAR(20),\n",
    "    email VARCHAR(255) ,\n",
    "    application_date DATE,\n",
    "    country VARCHAR(100),\n",
    "    yoe INT,\n",
    "    seniority VARCHAR(50),\n",
    "    technology VARCHAR(50),\n",
    "    code_challenge_score INT,\n",
    "    technical_interview_score INT,\n",
    "    hired BOOLEAN);\n",
    "\"\"\")\n",
    "conn.commit()\n",
    "print (\"La tabla se ha creado con exito\")"
   ]
  },
  {
   "cell_type": "markdown",
   "metadata": {},
   "source": [
    "## Carga de datos limpios"
   ]
  },
  {
   "cell_type": "code",
   "execution_count": 67,
   "metadata": {},
   "outputs": [
    {
     "ename": "KeyError",
     "evalue": "'first_name'",
     "output_type": "error",
     "traceback": [
      "\u001b[31m---------------------------------------------------------------------------\u001b[39m",
      "\u001b[31mKeyError\u001b[39m                                  Traceback (most recent call last)",
      "\u001b[36mFile \u001b[39m\u001b[32md:\\Universidad\\ETL\\Workshop_candidates\\mi_env\\Lib\\site-packages\\pandas\\core\\indexes\\base.py:3805\u001b[39m, in \u001b[36mIndex.get_loc\u001b[39m\u001b[34m(self, key)\u001b[39m\n\u001b[32m   3804\u001b[39m \u001b[38;5;28;01mtry\u001b[39;00m:\n\u001b[32m-> \u001b[39m\u001b[32m3805\u001b[39m     \u001b[38;5;28;01mreturn\u001b[39;00m \u001b[38;5;28;43mself\u001b[39;49m\u001b[43m.\u001b[49m\u001b[43m_engine\u001b[49m\u001b[43m.\u001b[49m\u001b[43mget_loc\u001b[49m\u001b[43m(\u001b[49m\u001b[43mcasted_key\u001b[49m\u001b[43m)\u001b[49m\n\u001b[32m   3806\u001b[39m \u001b[38;5;28;01mexcept\u001b[39;00m \u001b[38;5;167;01mKeyError\u001b[39;00m \u001b[38;5;28;01mas\u001b[39;00m err:\n",
      "\u001b[36mFile \u001b[39m\u001b[32mindex.pyx:167\u001b[39m, in \u001b[36mpandas._libs.index.IndexEngine.get_loc\u001b[39m\u001b[34m()\u001b[39m\n",
      "\u001b[36mFile \u001b[39m\u001b[32mindex.pyx:196\u001b[39m, in \u001b[36mpandas._libs.index.IndexEngine.get_loc\u001b[39m\u001b[34m()\u001b[39m\n",
      "\u001b[36mFile \u001b[39m\u001b[32mpandas\\\\_libs\\\\hashtable_class_helper.pxi:7081\u001b[39m, in \u001b[36mpandas._libs.hashtable.PyObjectHashTable.get_item\u001b[39m\u001b[34m()\u001b[39m\n",
      "\u001b[36mFile \u001b[39m\u001b[32mpandas\\\\_libs\\\\hashtable_class_helper.pxi:7089\u001b[39m, in \u001b[36mpandas._libs.hashtable.PyObjectHashTable.get_item\u001b[39m\u001b[34m()\u001b[39m\n",
      "\u001b[31mKeyError\u001b[39m: 'first_name'",
      "\nThe above exception was the direct cause of the following exception:\n",
      "\u001b[31mKeyError\u001b[39m                                  Traceback (most recent call last)",
      "\u001b[36mCell\u001b[39m\u001b[36m \u001b[39m\u001b[32mIn[67]\u001b[39m\u001b[32m, line 8\u001b[39m\n\u001b[32m      3\u001b[39m \u001b[38;5;28;01mif\u001b[39;00m resultado[\u001b[32m0\u001b[39m] == \u001b[32m0\u001b[39m:\n\u001b[32m      4\u001b[39m     \u001b[38;5;28;01mfor\u001b[39;00m _, row \u001b[38;5;129;01min\u001b[39;00m df_cleaned.iterrows():\n\u001b[32m      5\u001b[39m         cursor.execute(\u001b[33m\"\"\"\u001b[39m\n\u001b[32m      6\u001b[39m \u001b[33m                   INSERT INTO candidates_cleaned (first_name,last_name,email,application_date,country,yoe,seniority,technology,code_challenge_score,technical_interview_score,hired)\u001b[39m\n\u001b[32m      7\u001b[39m \u001b[33m                   VALUES (\u001b[39m\u001b[38;5;132;01m%s\u001b[39;00m\u001b[33m,\u001b[39m\u001b[38;5;132;01m%s\u001b[39;00m\u001b[33m,\u001b[39m\u001b[38;5;132;01m%s\u001b[39;00m\u001b[33m,\u001b[39m\u001b[38;5;132;01m%s\u001b[39;00m\u001b[33m,\u001b[39m\u001b[38;5;132;01m%s\u001b[39;00m\u001b[33m,\u001b[39m\u001b[38;5;132;01m%s\u001b[39;00m\u001b[33m,\u001b[39m\u001b[38;5;132;01m%s\u001b[39;00m\u001b[33m,\u001b[39m\u001b[38;5;132;01m%s\u001b[39;00m\u001b[33m,\u001b[39m\u001b[38;5;132;01m%s\u001b[39;00m\u001b[33m,\u001b[39m\u001b[38;5;132;01m%s\u001b[39;00m\u001b[33m,\u001b[39m\u001b[38;5;132;01m%s\u001b[39;00m\u001b[33m,\u001b[39m\u001b[38;5;132;01m%s\u001b[39;00m\u001b[33m)\u001b[39m\n\u001b[32m----> \u001b[39m\u001b[32m8\u001b[39m \u001b[33m                \u001b[39m\u001b[33m\"\"\"\u001b[39m, (\u001b[43mrow\u001b[49m\u001b[43m[\u001b[49m\u001b[33;43m'\u001b[39;49m\u001b[33;43mfirst_name\u001b[39;49m\u001b[33;43m'\u001b[39;49m\u001b[43m]\u001b[49m,row[\u001b[33m'\u001b[39m\u001b[33mlast_name\u001b[39m\u001b[33m'\u001b[39m],row[\u001b[33m'\u001b[39m\u001b[33memail\u001b[39m\u001b[33m'\u001b[39m],row[\u001b[33m'\u001b[39m\u001b[33mapplication_date\u001b[39m\u001b[33m'\u001b[39m],row[\u001b[33m'\u001b[39m\u001b[33mcountry\u001b[39m\u001b[33m'\u001b[39m],row[\u001b[33m'\u001b[39m\u001b[33myoe\u001b[39m\u001b[33m'\u001b[39m],row[\u001b[33m'\u001b[39m\u001b[33mseniority\u001b[39m\u001b[33m'\u001b[39m],row[\u001b[33m'\u001b[39m\u001b[33mtechnology\u001b[39m\u001b[33m'\u001b[39m],row[\u001b[33m'\u001b[39m\u001b[33mcode_challenge_score\u001b[39m\u001b[33m'\u001b[39m],row[\u001b[33m'\u001b[39m\u001b[33mtechnical_interview_score\u001b[39m\u001b[33m'\u001b[39m],row[\u001b[33m'\u001b[39m\u001b[33mhired\u001b[39m\u001b[33m'\u001b[39m]))\n\u001b[32m      9\u001b[39m     conn.commit()\n\u001b[32m     10\u001b[39m     \u001b[38;5;28mprint\u001b[39m(\u001b[33m\"\u001b[39m\u001b[33mDato cargados correcctamente\u001b[39m\u001b[33m\"\u001b[39m)\n",
      "\u001b[36mFile \u001b[39m\u001b[32md:\\Universidad\\ETL\\Workshop_candidates\\mi_env\\Lib\\site-packages\\pandas\\core\\series.py:1121\u001b[39m, in \u001b[36mSeries.__getitem__\u001b[39m\u001b[34m(self, key)\u001b[39m\n\u001b[32m   1118\u001b[39m     \u001b[38;5;28;01mreturn\u001b[39;00m \u001b[38;5;28mself\u001b[39m._values[key]\n\u001b[32m   1120\u001b[39m \u001b[38;5;28;01melif\u001b[39;00m key_is_scalar:\n\u001b[32m-> \u001b[39m\u001b[32m1121\u001b[39m     \u001b[38;5;28;01mreturn\u001b[39;00m \u001b[38;5;28;43mself\u001b[39;49m\u001b[43m.\u001b[49m\u001b[43m_get_value\u001b[49m\u001b[43m(\u001b[49m\u001b[43mkey\u001b[49m\u001b[43m)\u001b[49m\n\u001b[32m   1123\u001b[39m \u001b[38;5;66;03m# Convert generator to list before going through hashable part\u001b[39;00m\n\u001b[32m   1124\u001b[39m \u001b[38;5;66;03m# (We will iterate through the generator there to check for slices)\u001b[39;00m\n\u001b[32m   1125\u001b[39m \u001b[38;5;28;01mif\u001b[39;00m is_iterator(key):\n",
      "\u001b[36mFile \u001b[39m\u001b[32md:\\Universidad\\ETL\\Workshop_candidates\\mi_env\\Lib\\site-packages\\pandas\\core\\series.py:1237\u001b[39m, in \u001b[36mSeries._get_value\u001b[39m\u001b[34m(self, label, takeable)\u001b[39m\n\u001b[32m   1234\u001b[39m     \u001b[38;5;28;01mreturn\u001b[39;00m \u001b[38;5;28mself\u001b[39m._values[label]\n\u001b[32m   1236\u001b[39m \u001b[38;5;66;03m# Similar to Index.get_value, but we do not fall back to positional\u001b[39;00m\n\u001b[32m-> \u001b[39m\u001b[32m1237\u001b[39m loc = \u001b[38;5;28;43mself\u001b[39;49m\u001b[43m.\u001b[49m\u001b[43mindex\u001b[49m\u001b[43m.\u001b[49m\u001b[43mget_loc\u001b[49m\u001b[43m(\u001b[49m\u001b[43mlabel\u001b[49m\u001b[43m)\u001b[49m\n\u001b[32m   1239\u001b[39m \u001b[38;5;28;01mif\u001b[39;00m is_integer(loc):\n\u001b[32m   1240\u001b[39m     \u001b[38;5;28;01mreturn\u001b[39;00m \u001b[38;5;28mself\u001b[39m._values[loc]\n",
      "\u001b[36mFile \u001b[39m\u001b[32md:\\Universidad\\ETL\\Workshop_candidates\\mi_env\\Lib\\site-packages\\pandas\\core\\indexes\\base.py:3812\u001b[39m, in \u001b[36mIndex.get_loc\u001b[39m\u001b[34m(self, key)\u001b[39m\n\u001b[32m   3807\u001b[39m     \u001b[38;5;28;01mif\u001b[39;00m \u001b[38;5;28misinstance\u001b[39m(casted_key, \u001b[38;5;28mslice\u001b[39m) \u001b[38;5;129;01mor\u001b[39;00m (\n\u001b[32m   3808\u001b[39m         \u001b[38;5;28misinstance\u001b[39m(casted_key, abc.Iterable)\n\u001b[32m   3809\u001b[39m         \u001b[38;5;129;01mand\u001b[39;00m \u001b[38;5;28many\u001b[39m(\u001b[38;5;28misinstance\u001b[39m(x, \u001b[38;5;28mslice\u001b[39m) \u001b[38;5;28;01mfor\u001b[39;00m x \u001b[38;5;129;01min\u001b[39;00m casted_key)\n\u001b[32m   3810\u001b[39m     ):\n\u001b[32m   3811\u001b[39m         \u001b[38;5;28;01mraise\u001b[39;00m InvalidIndexError(key)\n\u001b[32m-> \u001b[39m\u001b[32m3812\u001b[39m     \u001b[38;5;28;01mraise\u001b[39;00m \u001b[38;5;167;01mKeyError\u001b[39;00m(key) \u001b[38;5;28;01mfrom\u001b[39;00m\u001b[38;5;250m \u001b[39m\u001b[34;01merr\u001b[39;00m\n\u001b[32m   3813\u001b[39m \u001b[38;5;28;01mexcept\u001b[39;00m \u001b[38;5;167;01mTypeError\u001b[39;00m:\n\u001b[32m   3814\u001b[39m     \u001b[38;5;66;03m# If we have a listlike key, _check_indexing_error will raise\u001b[39;00m\n\u001b[32m   3815\u001b[39m     \u001b[38;5;66;03m#  InvalidIndexError. Otherwise we fall through and re-raise\u001b[39;00m\n\u001b[32m   3816\u001b[39m     \u001b[38;5;66;03m#  the TypeError.\u001b[39;00m\n\u001b[32m   3817\u001b[39m     \u001b[38;5;28mself\u001b[39m._check_indexing_error(key)\n",
      "\u001b[31mKeyError\u001b[39m: 'first_name'"
     ]
    }
   ],
   "source": [
    "cursor.execute(\"SELECT COUNT(*) FROM candidates_cleaned\")\n",
    "resultado = cursor.fetchone()\n",
    "if resultado[0] == 0:\n",
    "    for _, row in df_cleaned.iterrows():\n",
    "        cursor.execute(\"\"\"\n",
    "                   INSERT INTO candidates_cleaned (first_name,last_name,email,application_date,country,yoe,seniority,technology,code_challenge_score,technical_interview_score,hired)\n",
    "                   VALUES (%s,%s,%s,%s,%s,%s,%s,%s,%s,%s,%s,%s)\n",
    "                \"\"\", (row['first_name'],row['last_name'],row['email'],row['application_date'],row['country'],row['yoe'],row['seniority'],row['technology'],row['code_challenge_score'],row['technical_interview_score'],row['hired']))\n",
    "    conn.commit()\n",
    "    print(\"Dato cargados correcctamente\")\n",
    "else:\n",
    "    conn.commit()\n",
    "    print(\"No es necesario volver a cargar los datos\")"
   ]
  },
  {
   "cell_type": "code",
   "execution_count": 37,
   "metadata": {},
   "outputs": [],
   "source": [
    "cursor.close()\n",
    "conn.close()"
   ]
  }
 ],
 "metadata": {
  "kernelspec": {
   "display_name": "mi_env",
   "language": "python",
   "name": "python3"
  },
  "language_info": {
   "codemirror_mode": {
    "name": "ipython",
    "version": 3
   },
   "file_extension": ".py",
   "mimetype": "text/x-python",
   "name": "python",
   "nbconvert_exporter": "python",
   "pygments_lexer": "ipython3",
   "version": "3.12.9"
  }
 },
 "nbformat": 4,
 "nbformat_minor": 2
}
