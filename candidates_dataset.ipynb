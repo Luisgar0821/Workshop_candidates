{
 "cells": [
  {
   "cell_type": "markdown",
   "metadata": {},
   "source": [
    "## Candidates DATASET Analysing"
   ]
  },
  {
   "cell_type": "markdown",
   "metadata": {},
   "source": [
    "---"
   ]
  },
  {
   "cell_type": "markdown",
   "metadata": {},
   "source": [
    "Luis Angel Garcia (2230177)"
   ]
  },
  {
   "cell_type": "markdown",
   "metadata": {},
   "source": [
    "## Librerias"
   ]
  },
  {
   "cell_type": "code",
   "execution_count": 1,
   "metadata": {},
   "outputs": [],
   "source": [
    "import configparser\n",
    "import pandas as pd\n",
    "import mysql.connector"
   ]
  },
  {
   "cell_type": "markdown",
   "metadata": {},
   "source": [
    "## MySql Configuracion y Conexion "
   ]
  },
  {
   "cell_type": "code",
   "execution_count": 2,
   "metadata": {},
   "outputs": [],
   "source": [
    "config = configparser.ConfigParser()\n",
    "config.read(\"config.txt\")\n",
    "db_config = {\n",
    "    \"host\": config.get(\"DEFAULT\", \"host\"),\n",
    "    \"port\": config.getint(\"DEFAULT\", \"port\"),\n",
    "    \"user\": config.get(\"DEFAULT\", \"user\"),\n",
    "    \"password\": config.get(\"DEFAULT\", \"password\")\n",
    "}\n",
    "\n",
    "conn = mysql.connector.connect(**db_config)\n",
    "cursor= conn.cursor()"
   ]
  },
  {
   "cell_type": "markdown",
   "metadata": {},
   "source": [
    "## Creacion de DATABASE y Conexion"
   ]
  },
  {
   "cell_type": "code",
   "execution_count": null,
   "metadata": {},
   "outputs": [],
   "source": [
    "database_name = config.get(\"DEFAULT\", \"database\")\n",
    "cursor.execute(f\"CREATE DATABASE IF NOT EXISTS {database_name}\")\n",
    "conn.commit()\n",
    "\n",
    "conn.database = database_name\n",
    "print(f\"Base de datos '{database_name}' lista para usarse.\")"
   ]
  },
  {
   "cell_type": "markdown",
   "metadata": {},
   "source": [
    "## Creacion de tabla de datos sucios"
   ]
  },
  {
   "cell_type": "code",
   "execution_count": null,
   "metadata": {},
   "outputs": [],
   "source": [
    "cursor.execute(\"\"\" \n",
    "CREATE TABLE IF NOT EXISTS candidates_original (\n",
    "    id INT AUTO_INCREMENT PRIMARY KEY,\n",
    "    first_name VARCHAR(20),\n",
    "    last_name VARCHAR(20),\n",
    "    email VARCHAR(255) ,\n",
    "    application_date DATE,\n",
    "    country VARCHAR(100),\n",
    "    yoe INT,\n",
    "    seniority VARCHAR(50),\n",
    "    technology VARCHAR(50),\n",
    "    code_challenge_score INT,\n",
    "    technical_interview_score INT\n",
    ");\n",
    "\"\"\")\n",
    "conn.commit()\n",
    "print (\"La base de datos y tabla se ha creado con exito\")"
   ]
  },
  {
   "cell_type": "markdown",
   "metadata": {},
   "source": [
    "## Carga de datos"
   ]
  },
  {
   "cell_type": "code",
   "execution_count": null,
   "metadata": {},
   "outputs": [],
   "source": [
    "csv_file= './DATASET/candidates.csv'\n",
    "df = pd.read_csv(csv_file, sep=\";\")\n",
    "df.columns = [\"first_name\", \"last_name\", \"email\", \"application_date\", \"country\", \"yoe\", \"seniority\", \"technology\", \"code_challenge_score\", \"technical_interview_score\"]\n",
    "\n",
    "df = df.fillna(\"TEMP_NULL\") \n",
    "\n",
    "cursor.execute(\"SELECT COUNT(*) FROM candidates_original\")\n",
    "resultado = cursor.fetchone()\n",
    "if resultado[0] == 0:\n",
    "    for _, row in df.iterrows():\n",
    "        cursor.execute(\"\"\"\n",
    "                   INSERT INTO candidates_original (first_name,last_name,email,application_date,country,yoe,seniority,technology,code_challenge_score,technical_interview_score)\n",
    "                   VALUES (%s,%s,%s,%s,%s,%s,%s,%s,%s,%s)\n",
    "                \"\"\", (row['first_name'],row['last_name'],row['email'],row['application_date'],row['country'],row['yoe'],row['seniority'],row['technology'],row['code_challenge_score'],row['technical_interview_score']))\n",
    "    conn.commit()\n",
    "    print(\"Dato cargados correcctamente\")\n",
    "else:\n",
    "    conn.commit()\n",
    "    print(\"No es necesario volver a cargar los datos\")"
   ]
  },
  {
   "cell_type": "markdown",
   "metadata": {},
   "source": [
    "## uso dataset desde mysql"
   ]
  },
  {
   "cell_type": "code",
   "execution_count": 6,
   "metadata": {},
   "outputs": [],
   "source": [
    "cursor.execute(\"SELECT * FROM candidates_original\")\n",
    "\n",
    "columns = [col[0] for col in cursor.description]\n",
    "datas= cursor.fetchall()\n",
    "df = pd.DataFrame(datas, columns=columns)"
   ]
  },
  {
   "cell_type": "markdown",
   "metadata": {},
   "source": [
    "## Limpieza de datos duplicados y nulos"
   ]
  },
  {
   "cell_type": "code",
   "execution_count": 7,
   "metadata": {},
   "outputs": [],
   "source": [
    "df_cleaned = df.dropna()\n",
    "df_cleaned = df_cleaned.drop_duplicates()"
   ]
  },
  {
   "cell_type": "markdown",
   "metadata": {},
   "source": [
    "## Conversion de application date como formato fecha"
   ]
  },
  {
   "cell_type": "code",
   "execution_count": 8,
   "metadata": {},
   "outputs": [],
   "source": [
    "df_cleaned['application_date'] = pd.to_datetime(df['application_date'], errors='coerce')"
   ]
  },
  {
   "cell_type": "markdown",
   "metadata": {},
   "source": [
    "## Eliminacion de filas de fecha invalidad"
   ]
  },
  {
   "cell_type": "code",
   "execution_count": 9,
   "metadata": {},
   "outputs": [],
   "source": [
    "df_cleaned = df_cleaned.dropna(subset=['application_date'])"
   ]
  },
  {
   "cell_type": "markdown",
   "metadata": {},
   "source": [
    "## Creacion de columna"
   ]
  },
  {
   "cell_type": "code",
   "execution_count": null,
   "metadata": {},
   "outputs": [],
   "source": [
    "df_cleaned['hired'] = ((df_cleaned['code_challenge_score'] >= 7) & (df['technical_interview_score'] >= 7)).astype(int)\n",
    "print(df_cleaned.columns)"
   ]
  },
  {
   "cell_type": "markdown",
   "metadata": {},
   "source": [
    "## Registro de contratados"
   ]
  },
  {
   "cell_type": "code",
   "execution_count": 11,
   "metadata": {},
   "outputs": [],
   "source": [
    "df_hired = df_cleaned[df_cleaned['hired'] == 1]"
   ]
  },
  {
   "cell_type": "markdown",
   "metadata": {},
   "source": [
    "## creacion de tabla de datos limpia"
   ]
  },
  {
   "cell_type": "code",
   "execution_count": null,
   "metadata": {},
   "outputs": [],
   "source": [
    "cursor.execute(\"\"\" \n",
    "CREATE TABLE IF NOT EXISTS candidates_cleaned (\n",
    "    id INT AUTO_INCREMENT PRIMARY KEY,\n",
    "    first_name VARCHAR(20),\n",
    "    last_name VARCHAR(20),\n",
    "    email VARCHAR(255) ,\n",
    "    application_date DATE,\n",
    "    country VARCHAR(100),\n",
    "    yoe INT,\n",
    "    seniority VARCHAR(50),\n",
    "    technology VARCHAR(50),\n",
    "    code_challenge_score INT,\n",
    "    technical_interview_score INT,\n",
    "    hired INT);\n",
    "\"\"\")\n",
    "conn.commit()\n",
    "print (\"La tabla se ha creado con exito\")"
   ]
  },
  {
   "cell_type": "markdown",
   "metadata": {},
   "source": [
    "## Carga de datos limpios"
   ]
  },
  {
   "cell_type": "code",
   "execution_count": null,
   "metadata": {},
   "outputs": [],
   "source": [
    "cursor.execute(\"SELECT COUNT(*) FROM candidates_cleaned\")\n",
    "resultado = cursor.fetchone()\n",
    "if resultado[0] == 0:\n",
    "    for _, row in df_cleaned.iterrows():\n",
    "        cursor.execute(\"\"\"\n",
    "                   INSERT INTO candidates_cleaned (first_name,last_name,email,application_date,country,yoe,seniority,technology,code_challenge_score,technical_interview_score,hired)\n",
    "                   VALUES (%s,%s,%s,%s,%s,%s,%s,%s,%s,%s,%s)\n",
    "                \"\"\", (row['first_name'],row['last_name'],row['email'],row['application_date'],row['country'],row['yoe'],row['seniority'],row['technology'],row['code_challenge_score'],row['technical_interview_score'],row['hired']))\n",
    "    conn.commit()\n",
    "    print(\"Dato cargados correcctamente\")\n",
    "else:\n",
    "    conn.commit()\n",
    "    print(\"No es necesario volver a cargar los datos\")"
   ]
  },
  {
   "cell_type": "code",
   "execution_count": 15,
   "metadata": {},
   "outputs": [],
   "source": [
    "cursor.close()\n",
    "conn.close()"
   ]
  }
 ],
 "metadata": {
  "kernelspec": {
   "display_name": "mi_env",
   "language": "python",
   "name": "python3"
  },
  "language_info": {
   "codemirror_mode": {
    "name": "ipython",
    "version": 3
   },
   "file_extension": ".py",
   "mimetype": "text/x-python",
   "name": "python",
   "nbconvert_exporter": "python",
   "pygments_lexer": "ipython3",
   "version": "3.12.9"
  }
 },
 "nbformat": 4,
 "nbformat_minor": 2
}
